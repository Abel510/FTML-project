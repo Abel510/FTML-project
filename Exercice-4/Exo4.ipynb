{
 "cells": [
  {
   "cell_type": "code",
   "execution_count": 8,
   "metadata": {},
   "outputs": [],
   "source": [
    "import numpy as np\n",
    "import matplotlib.pyplot as plt\n",
    "import seaborn as sns\n",
    "from sklearn.model_selection import train_test_split, GridSearchCV\n",
    "from sklearn.preprocessing import StandardScaler\n",
    "from sklearn.linear_model import Ridge, Lasso, ElasticNet\n",
    "from sklearn.ensemble import RandomForestRegressor\n",
    "from sklearn.decomposition import PCA\n",
    "from sklearn.metrics import r2_score"
   ]
  },
  {
   "cell_type": "code",
   "execution_count": 9,
   "metadata": {},
   "outputs": [],
   "source": [
    "X_train = np.load(\"C:\\\\Users\\\\abela\\\\Desktop\\\\Epita\\\\FTML\\\\Exo4\\\\X_test.npy\")\n",
    "y_train = np.load(\"C:\\\\Users\\\\abela\\\\Desktop\\\\Epita\\\\FTML\\\\Exo4\\\\y_test.npy\")\n",
    "X_test = np.load(\"C:\\\\Users\\\\abela\\\\Desktop\\\\Epita\\\\FTML\\\\Exo4\\\\X_train.npy\")\n",
    "y_test = np.load(\"C:\\\\Users\\\\abela\\\\Desktop\\\\Epita\\\\FTML\\\\Exo4\\\\y_train.npy\")"
   ]
  },
  {
   "cell_type": "code",
   "execution_count": 11,
   "metadata": {},
   "outputs": [
    {
     "name": "stdout",
     "output_type": "stream",
     "text": [
      "Ridge Test R² score: 0.5899\n",
      "Lasso Test R² score: 0.7573\n",
      "ElasticNet Test R² score: 0.8734\n"
     ]
    },
    {
     "name": "stderr",
     "output_type": "stream",
     "text": [
      "c:\\Users\\abela\\anaconda3\\Lib\\site-packages\\sklearn\\linear_model\\_coordinate_descent.py:628: ConvergenceWarning: Objective did not converge. You might want to increase the number of iterations, check the scale of the features or consider increasing regularisation. Duality gap: 1.717e-02, tolerance: 1.186e-02\n",
      "  model = cd_fast.enet_coordinate_descent(\n",
      "c:\\Users\\abela\\anaconda3\\Lib\\site-packages\\sklearn\\linear_model\\_coordinate_descent.py:628: ConvergenceWarning: Objective did not converge. You might want to increase the number of iterations, check the scale of the features or consider increasing regularisation. Duality gap: 1.437e-02, tolerance: 1.189e-02\n",
      "  model = cd_fast.enet_coordinate_descent(\n"
     ]
    },
    {
     "name": "stdout",
     "output_type": "stream",
     "text": [
      "Best ElasticNet parameters: {'alpha': 0.01, 'l1_ratio': 0.9}\n",
      "Best ElasticNet R² score: 0.9087183378852488\n",
      "Best ElasticNet Test R² score: 0.9347\n",
      "Nombre de composantes retenues par PCA: 122\n",
      "Best Model with PCA Test R² score: 0.5969\n",
      "\n",
      "Résultats finaux:\n",
      "Ridge R² score: 0.5899\n",
      "Lasso R² score: 0.7573\n",
      "ElasticNet R² score: 0.8734\n",
      "Best ElasticNet R² score: 0.9347\n",
      "Best Model with PCA R² score: 0.5969\n",
      "\n",
      "L'objectif de R² supérieur à 0.88 sur l'ensemble de test est atteint avec un score de 0.9347 pour le modèle Best ElasticNet.\n",
      "\n",
      "Conclusion et recommandations:\n",
      "1. Le meilleur modèle est Best ElasticNet\n",
      "2. Le meilleur score R² obtenu est 0.9347\n",
      "3. L'analyse des caractéristiques importantes peut guider la sélection de caractéristiques\n",
      "4. Si le score n'est toujours pas satisfaisant, envisagez de collecter plus de données ou d'explorer d'autres caractéristiques\n"
     ]
    }
   ],
   "source": [
    "scaler = StandardScaler()\n",
    "X_train_scaled = scaler.fit_transform(X_train)\n",
    "X_test_scaled = scaler.transform(X_test)\n",
    "y_train = y_train.ravel()\n",
    "y_test = y_test.ravel()\n",
    "\n",
    "def evaluate_model(model, X_train, X_test, y_train, y_test, model_name):\n",
    "    model.fit(X_train, y_train)\n",
    "    predictions = model.predict(X_test)\n",
    "    r2 = r2_score(y_test, predictions)\n",
    "    print(f\"{model_name} Test R² score: {r2:.4f}\")\n",
    "    return r2\n",
    "\n",
    "models = {\n",
    "    \"Ridge\": Ridge(alpha=1.0),\n",
    "    \"Lasso\": Lasso(alpha=0.1),\n",
    "    \"ElasticNet\": ElasticNet(alpha=0.1, l1_ratio=0.5)\n",
    "}\n",
    "\n",
    "results = {}\n",
    "for name, model in models.items():\n",
    "    results[name] = evaluate_model(model, X_train_scaled, X_test_scaled, y_train, y_test, name)\n",
    "\n",
    "param_grid = {\n",
    "    'alpha': [0.001, 0.01, 0.1, 1, 10, 100],\n",
    "    'l1_ratio': [0.1, 0.3, 0.5, 0.7, 0.9]\n",
    "}\n",
    "\n",
    "elastic_grid = GridSearchCV(ElasticNet(), param_grid, cv=5, scoring='r2')\n",
    "elastic_grid.fit(X_train_scaled, y_train)\n",
    "print(\"Best ElasticNet parameters:\", elastic_grid.best_params_)\n",
    "print(\"Best ElasticNet R² score:\", elastic_grid.best_score_)\n",
    "\n",
    "best_elastic = elastic_grid.best_estimator_\n",
    "results[\"Best ElasticNet\"] = evaluate_model(best_elastic, X_train_scaled, X_test_scaled, y_train, y_test, \"Best ElasticNet\")\n",
    "\n",
    "pca = PCA(n_components=0.95)\n",
    "X_train_pca = pca.fit_transform(X_train_scaled)\n",
    "X_test_pca = pca.transform(X_test_scaled)\n",
    "\n",
    "print(f\"Nombre de composantes retenues par PCA: {pca.n_components_}\")\n",
    "\n",
    "results[\"Best Model with PCA\"] = evaluate_model(best_elastic, X_train_pca, X_test_pca, y_train, y_test, \"Best Model with PCA\")\n",
    "\n",
    "print(\"\\nRésultats finaux:\")\n",
    "for name, r2 in results.items():\n",
    "    print(f\"{name} R² score: {r2:.4f}\")\n",
    "\n",
    "best_model = max(results, key=results.get)\n",
    "best_r2 = results[best_model]\n",
    "\n",
    "if best_r2 > 0.88:\n",
    "    print(f\"\\nL'objectif de R² supérieur à 0.88 sur l'ensemble de test est atteint avec un score de {best_r2:.4f} pour le modèle {best_model}.\")\n",
    "else:\n",
    "    print(f\"\\nL'objectif de R² supérieur à 0.88 sur l'ensemble de test n'est pas atteint. Le meilleur score est {best_r2:.4f} pour le modèle {best_model}.\")\n",
    "\n",
    "print(\"\\nConclusion et recommandations:\")\n",
    "print(\"1. Le meilleur modèle est\", best_model)\n",
    "print(f\"2. Le meilleur score R² obtenu est {best_r2:.4f}\")\n",
    "print(\"3. L'analyse des caractéristiques importantes peut guider la sélection de caractéristiques\")\n",
    "print(\"4. Si le score n'est toujours pas satisfaisant, envisagez de collecter plus de données ou d'explorer d'autres caractéristiques\")"
   ]
  },
  {
   "cell_type": "code",
   "execution_count": null,
   "metadata": {},
   "outputs": [],
   "source": []
  }
 ],
 "metadata": {
  "kernelspec": {
   "display_name": "base",
   "language": "python",
   "name": "python3"
  },
  "language_info": {
   "codemirror_mode": {
    "name": "ipython",
    "version": 3
   },
   "file_extension": ".py",
   "mimetype": "text/x-python",
   "name": "python",
   "nbconvert_exporter": "python",
   "pygments_lexer": "ipython3",
   "version": "3.11.5"
  }
 },
 "nbformat": 4,
 "nbformat_minor": 2
}
