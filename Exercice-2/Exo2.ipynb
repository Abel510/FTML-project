{
 "cells": [
  {
   "cell_type": "code",
   "execution_count": 1,
   "metadata": {},
   "outputs": [],
   "source": [
    "import numpy as np"
   ]
  },
  {
   "cell_type": "code",
   "execution_count": 2,
   "metadata": {},
   "outputs": [],
   "source": [
    "lambda_ = 1.0\n",
    "\n",
    "def generate_samples(n, lambda_):\n",
    "    return np.random.exponential(1/lambda_, n)\n",
    "\n",
    "def bayesian_predictor_squared(lambda_):\n",
    "    return 1 / lambda_\n",
    "\n",
    "def bayesian_predictor_absolute(lambda_):\n",
    "    return np.log(2) / lambda_\n",
    "\n",
    "def absolute_loss(y_true, y_pred):\n",
    "    return np.abs(y_true - y_pred)"
   ]
  },
  {
   "cell_type": "code",
   "execution_count": 3,
   "metadata": {},
   "outputs": [],
   "source": [
    "n_samples = 1000\n",
    "\n",
    "samples = generate_samples(n_samples, lambda_)\n",
    "\n",
    "f_squared = bayesian_predictor_squared(lambda_)\n",
    "f_absolute = bayesian_predictor_absolute(lambda_)\n",
    "\n",
    "test_error_squared = np.mean(absolute_loss(samples, f_squared))\n",
    "test_error_absolute = np.mean(absolute_loss(samples, f_absolute))"
   ]
  },
  {
   "cell_type": "code",
   "execution_count": 6,
   "metadata": {},
   "outputs": [
    {
     "name": "stdout",
     "output_type": "stream",
     "text": [
      "Erreur de test empirique pour f^*_(L_squared) sous L_(absolute): 0.7349\n",
      "Erreur de test empirique pour f^*_(L_absolute) sous L_(absolute): 0.7025\n"
     ]
    }
   ],
   "source": [
    "print(f\"Erreur de test empirique pour f^*_(L_squared) sous L_(absolute): {test_error_squared:.4f}\")\n",
    "print(f\"Erreur de test empirique pour f^*_(L_absolute) sous L_(absolute): {test_error_absolute:.4f}\")"
   ]
  }
 ],
 "metadata": {
  "kernelspec": {
   "display_name": "base",
   "language": "python",
   "name": "python3"
  },
  "language_info": {
   "codemirror_mode": {
    "name": "ipython",
    "version": 3
   },
   "file_extension": ".py",
   "mimetype": "text/x-python",
   "name": "python",
   "nbconvert_exporter": "python",
   "pygments_lexer": "ipython3",
   "version": "3.11.5"
  }
 },
 "nbformat": 4,
 "nbformat_minor": 2
}
